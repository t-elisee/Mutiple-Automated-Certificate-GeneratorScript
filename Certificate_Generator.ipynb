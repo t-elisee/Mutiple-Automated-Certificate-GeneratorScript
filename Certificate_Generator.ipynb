{
 "cells": [
  {
   "cell_type": "code",
   "execution_count": 21,
   "metadata": {},
   "outputs": [],
   "source": [
    "# -*- coding: utf-8 -*-\n",
    "from PIL import Image, ImageDraw, ImageFont\n",
    "import pandas as pd\n",
    "import os"
   ]
  },
  {
   "cell_type": "code",
   "execution_count": 25,
   "metadata": {},
   "outputs": [],
   "source": [
    "df = pd.read_csv('EN_session.csv')\n",
    "#Import your CSV files containing the names of participants#"
   ]
  },
  {
   "cell_type": "code",
   "execution_count": 23,
   "metadata": {},
   "outputs": [],
   "source": [
    "font = ImageFont.truetype('arial.ttf',40)\n",
    "#Define font parameters(Type, Size etc..)"
   ]
  },
  {
   "cell_type": "code",
   "execution_count": 24,
   "metadata": {},
   "outputs": [],
   "source": [
    "for index,j in df.iterrows():\n",
    "    img = Image.open('attestation_en.jpg')\n",
    "    draw = ImageDraw.Draw(img)\n",
    "    #####print(j.Name)####\n",
    "    draw.text(xy=(420,180),text=f'{j.Name}',fill=(0,0,0),font=font)\n",
    "    img.save('pictures/{}.jpg'.format(j.Name))\n",
    "    \n",
    "# create a folder to save the generated images. In our case \"picture\" was used as the defined folder\n",
    "# Use Paint to find the XY coordinates where the names will be written"
   ]
  },
  {
   "cell_type": "markdown",
   "metadata": {},
   "source": []
  },
  {
   "cell_type": "code",
   "execution_count": null,
   "metadata": {},
   "outputs": [],
   "source": []
  },
  {
   "cell_type": "code",
   "execution_count": null,
   "metadata": {},
   "outputs": [],
   "source": []
  },
  {
   "cell_type": "code",
   "execution_count": null,
   "metadata": {},
   "outputs": [],
   "source": []
  }
 ],
 "metadata": {
  "kernelspec": {
   "display_name": "Python 3",
   "language": "python",
   "name": "python3"
  },
  "language_info": {
   "codemirror_mode": {
    "name": "ipython",
    "version": 3
   },
   "file_extension": ".py",
   "mimetype": "text/x-python",
   "name": "python",
   "nbconvert_exporter": "python",
   "pygments_lexer": "ipython3",
   "version": "3.8.3"
  }
 },
 "nbformat": 4,
 "nbformat_minor": 2
}
